{
 "cells": [
  {
   "cell_type": "code",
   "execution_count": 1,
   "metadata": {},
   "outputs": [],
   "source": [
    "import numpy\n",
    "numpy.random.seed(1337)\n",
    "from numpy import loadtxt\n",
    "from keras.models import Sequential\n",
    "from keras.layers import Dense"
   ]
  },
  {
   "cell_type": "code",
   "execution_count": 2,
   "metadata": {},
   "outputs": [],
   "source": [
    "dataset=loadtxt('Fitness_Tracker 1.csv', delimiter=',')"
   ]
  },
  {
   "cell_type": "code",
   "execution_count": 3,
   "metadata": {},
   "outputs": [
    {
     "name": "stdout",
     "output_type": "stream",
     "text": [
      "[[4.0000e+00 9.9900e+03 3.5000e+02 ... 1.4000e+02 1.1400e+02 6.0000e+00]\n",
      " [3.0000e+00 9.9800e+03 3.0000e+02 ... 1.2000e+02 1.1700e+02 6.0000e+00]\n",
      " [2.0000e+00 9.9700e+03 2.5000e+02 ... 1.0000e+02 1.2000e+02 5.0000e+00]\n",
      " ...\n",
      " [8.0000e+00 1.0664e+04 6.6400e+02 ... 1.8600e+02 9.4000e+01 9.0000e+00]\n",
      " [8.0000e+00 1.0665e+04 6.6500e+02 ... 1.8600e+02 9.4000e+01 9.0000e+00]\n",
      " [8.0000e+00 1.0666e+04 6.6600e+02 ... 1.8600e+02 9.4000e+01 9.0000e+00]] [0. 0. 0. 0. 0. 0. 0. 0. 0. 0. 0. 0. 0. 0. 0. 0. 0. 0. 0. 0. 0. 0. 0. 0.\n",
      " 0. 0. 0. 0. 0. 0. 0. 0. 0. 0. 0. 0. 0. 0. 0. 0. 0. 0. 0. 0. 0. 0. 0. 0.\n",
      " 0. 0. 0. 0. 0. 0. 0. 0. 0. 0. 0. 0. 0. 0. 0. 0. 0. 0. 0. 0. 0. 0. 0. 0.\n",
      " 0. 0. 0. 0. 0. 0. 0. 0. 0. 0. 0. 0. 0. 0. 0. 0. 0. 1. 1. 1. 1. 1. 1. 1.\n",
      " 1. 1. 1. 1. 1. 1. 1. 1. 1. 1. 1. 1. 1. 1. 1. 1. 1. 1. 1. 1. 1. 1. 1. 1.\n",
      " 1. 1. 1. 1. 1. 1. 1. 1. 1. 1. 1. 1. 1. 1. 1. 1. 1. 1. 1. 1. 1. 1. 1. 1.\n",
      " 1. 1. 1. 1. 1. 1. 1. 1. 1. 1. 1. 1. 1. 1. 1. 1. 1. 1. 1. 1. 1. 1. 1. 1.\n",
      " 1. 1. 1. 1. 1. 1. 1. 1. 1. 1. 1. 1. 1. 1. 1. 1. 1. 1. 1. 1. 1. 1. 1. 1.\n",
      " 1. 1. 1. 1. 1. 1. 1. 0. 0. 0. 0. 0. 0. 0. 0. 0. 0. 0. 0. 0. 0. 0. 0. 0.\n",
      " 0. 0. 0. 0. 0. 0. 0. 0. 0. 0. 0. 0. 0. 0. 0. 0. 0. 0. 0. 0. 0. 0. 0. 0.\n",
      " 0. 0. 0. 0. 0. 0. 0. 0. 0. 0. 0. 0. 0. 0. 0. 0. 0. 0. 0. 0. 0. 0. 0. 0.\n",
      " 0. 0. 0. 0. 0. 0. 0. 0. 0. 0. 0. 0. 0. 0. 0. 0. 0. 0. 0. 0. 0. 0. 0. 0.\n",
      " 0. 0. 0. 0. 0. 0. 0. 0. 0. 0. 0. 0. 0. 0. 0. 0. 0. 0. 0. 0. 0. 0. 0. 0.\n",
      " 0. 0. 0. 0. 0. 0. 0. 0. 0. 0. 0. 0. 0. 0. 0. 0. 0. 0. 0. 0. 0. 1. 1. 1.\n",
      " 1. 1. 1. 1. 1. 1. 1. 1. 1. 1. 1. 1. 1. 1. 1. 1. 1. 1. 1. 1. 1. 1. 1. 1.\n",
      " 1. 1. 1. 1. 1. 1. 1. 1. 1. 1. 1. 1. 1. 1. 1. 1. 1. 1. 1. 1. 1. 1. 1. 1.\n",
      " 1. 1. 1. 1. 1. 1. 1. 1. 1. 1. 1. 1. 1. 1. 1. 1. 1. 1. 1. 1. 1. 1. 1. 1.\n",
      " 1. 1. 1. 1. 1. 1. 1. 1. 1. 1. 1. 1. 1. 1. 1. 1. 1. 1. 1. 1. 1. 1. 1. 1.\n",
      " 1. 1. 1. 1. 1. 1. 1. 1. 1. 1. 1. 1. 1. 1. 1. 1. 1. 1. 1. 1. 1. 1. 1. 1.\n",
      " 1. 1. 1. 1. 1. 1. 1. 1. 1. 1. 1. 1. 1. 1. 1. 1. 1. 1. 1. 1. 1. 1. 1. 1.\n",
      " 1. 1. 1. 1. 1. 1. 1. 1. 1. 1. 1. 1. 1. 1. 1. 1. 1. 1. 1. 1.]\n",
      "500\n"
     ]
    }
   ],
   "source": [
    "x=dataset[:,0:10]\n",
    "y=dataset[:,-1]\n",
    "print(x,y)\n",
    "n=x.shape[0]\n",
    "print(n)"
   ]
  },
  {
   "cell_type": "code",
   "execution_count": 4,
   "metadata": {},
   "outputs": [
    {
     "name": "stdout",
     "output_type": "stream",
     "text": [
      "[[6.0000e+00 1.0340e+04 7.0000e+02 ... 1.6600e+02 9.7000e+01 8.0000e+00]\n",
      " [7.0000e+00 1.0490e+04 6.0000e+02 ... 1.7500e+02 1.0700e+02 8.0000e+00]\n",
      " [8.0000e+00 1.0613e+04 6.1300e+02 ... 1.8100e+02 9.9000e+01 9.0000e+00]\n",
      " ...\n",
      " [8.0000e+00 1.0515e+04 5.1500e+02 ... 1.7100e+02 1.0900e+02 8.0000e+00]\n",
      " [7.0000e+00 1.0410e+04 6.0000e+02 ... 1.7500e+02 1.0700e+02 8.0000e+00]\n",
      " [7.0000e+00 1.0030e+04 4.3000e+02 ... 1.7100e+02 1.1000e+02 8.0000e+00]] [1. 1. 1. 0. 1. 1. 0. 1. 1. 1. 1. 1. 0. 1. 1. 0. 0. 0. 1. 1. 0. 0. 0. 1.\n",
      " 1. 1. 1. 0. 0. 1. 0. 1. 0. 1. 1. 1. 1. 1. 1. 0. 0. 0. 0. 1. 1. 0. 1. 0.\n",
      " 1. 1. 0. 0. 0. 0. 1. 0. 1. 0. 1. 1. 0. 1. 1. 0. 1. 1. 0. 0. 1. 0. 1. 1.\n",
      " 1. 1. 1. 0. 1. 1. 0. 0. 0. 0. 0. 1. 1. 0. 1. 1. 0. 1. 0. 0. 1. 1. 1. 0.\n",
      " 0. 1. 0. 0. 1. 0. 1. 1. 1. 1. 1. 0. 1. 0. 0. 1. 0. 0. 0. 0. 0. 0. 0. 0.\n",
      " 0. 1. 1. 1. 0. 0. 0. 0. 1. 1. 1. 0. 1. 0. 1. 0. 1. 0. 0. 0. 1. 1. 0. 1.\n",
      " 1. 0. 1. 0. 0. 0. 0. 1. 1. 1. 1. 1. 0. 1. 0. 1. 1. 0. 1. 0. 1. 1. 0. 0.\n",
      " 1. 0. 0. 1. 1. 1. 0. 1. 1. 1. 1. 0. 1. 1. 1. 0. 0. 1. 1. 1. 1. 0. 1. 0.\n",
      " 1. 1. 1. 1. 0. 1. 1. 0. 0. 1. 0. 1. 1. 1. 1. 1. 1. 0. 1. 1. 1. 1. 1. 1.\n",
      " 1. 0. 0. 0. 0. 1. 0. 0. 1. 0. 1. 0. 1. 0. 0. 1. 0. 0. 1. 1. 1. 1. 1. 0.\n",
      " 1. 1. 0. 1. 0. 1. 1. 0. 0. 1. 0. 1. 1. 1. 0. 1. 1. 0. 0. 0. 0. 1. 1. 0.\n",
      " 0. 1. 1. 1. 0. 1. 1. 0. 1. 0. 0. 0. 1. 0. 0. 1. 0. 1. 0. 1. 0. 0. 1. 0.\n",
      " 1. 0. 0. 1. 1. 0. 0. 1. 0. 1. 1. 0. 1. 1. 1. 1. 0. 0. 1. 1. 1. 0. 1. 0.\n",
      " 0. 0. 0. 0. 1. 0. 1. 1. 0. 1. 1. 0. 1. 1. 0. 1. 1. 0. 0. 1. 0. 1. 1. 1.\n",
      " 0. 0. 1. 1. 1. 0. 1. 1. 0. 0. 0. 0. 0. 0. 0. 0. 0. 1. 0. 1. 0. 0. 1. 0.\n",
      " 1. 1. 1. 1. 0. 1. 0. 1. 0. 1. 0. 0. 1. 1. 0. 0. 0. 1. 0. 1. 1. 0. 0. 1.\n",
      " 0. 1. 0. 1. 1. 1. 1. 0. 1. 1. 1. 1. 1. 1. 1. 0. 1. 0. 0. 0. 1. 1. 0. 1.\n",
      " 1. 1. 0. 0. 1. 1. 0. 0. 0. 1. 0. 0. 0. 1. 1. 0. 1. 0. 0. 1. 0. 0. 1. 1.\n",
      " 1. 1. 1. 1. 0. 1. 1. 1. 1. 1. 0. 0. 0. 0. 1. 1. 1. 1. 0. 0. 1. 1. 1. 1.\n",
      " 0. 0. 1. 0. 1. 1. 0. 1. 1. 1. 1. 0. 1. 0. 0. 0. 0. 1. 1. 1. 1. 0. 0. 1.\n",
      " 0. 1. 1. 0. 1. 1. 1. 0. 0. 0. 0. 1. 1. 1. 1. 1. 0. 1. 1. 1.]\n"
     ]
    }
   ],
   "source": [
    "ran=numpy.arange(n)\n",
    "numpy.random.shuffle(ran)\n",
    "x=x[ran]\n",
    "y=y[ran]\n",
    "print(x,y)"
   ]
  },
  {
   "cell_type": "code",
   "execution_count": 5,
   "metadata": {},
   "outputs": [
    {
     "name": "stdout",
     "output_type": "stream",
     "text": [
      "[[6.0000e+00 1.0340e+04 7.0000e+02 ... 1.6600e+02 9.7000e+01 8.0000e+00]\n",
      " [7.0000e+00 1.0490e+04 6.0000e+02 ... 1.7500e+02 1.0700e+02 8.0000e+00]\n",
      " [8.0000e+00 1.0613e+04 6.1300e+02 ... 1.8100e+02 9.9000e+01 9.0000e+00]\n",
      " ...\n",
      " [3.0000e+00 9.9500e+03 1.5000e+02 ... 6.0000e+01 1.2600e+02 4.0000e+00]\n",
      " [8.0000e+00 1.0539e+04 5.3900e+02 ... 1.7400e+02 1.0700e+02 8.0000e+00]\n",
      " [3.0000e+00 9.8650e+03 3.8000e+02 ... 1.5700e+02 1.1300e+02 6.0000e+00]] [1. 1. 1. 0. 1. 1. 0. 1. 1. 1. 1. 1. 0. 1. 1. 0. 0. 0. 1. 1. 0. 0. 0. 1.\n",
      " 1. 1. 1. 0. 0. 1. 0. 1. 0. 1. 1. 1. 1. 1. 1. 0. 0. 0. 0. 1. 1. 0. 1. 0.\n",
      " 1. 1. 0. 0. 0. 0. 1. 0. 1. 0. 1. 1. 0. 1. 1. 0. 1. 1. 0. 0. 1. 0. 1. 1.\n",
      " 1. 1. 1. 0. 1. 1. 0. 0. 0. 0. 0. 1. 1. 0. 1. 1. 0. 1. 0. 0. 1. 1. 1. 0.\n",
      " 0. 1. 0. 0. 1. 0. 1. 1. 1. 1. 1. 0. 1. 0. 0. 1. 0. 0. 0. 0. 0. 0. 0. 0.\n",
      " 0. 1. 1. 1. 0. 0. 0. 0. 1. 1. 1. 0. 1. 0. 1. 0. 1. 0. 0. 0. 1. 1. 0. 1.\n",
      " 1. 0. 1. 0. 0. 0. 0. 1. 1. 1. 1. 1. 0. 1. 0. 1. 1. 0. 1. 0. 1. 1. 0. 0.\n",
      " 1. 0. 0. 1. 1. 1. 0. 1. 1. 1. 1. 0. 1. 1. 1. 0. 0. 1. 1. 1. 1. 0. 1. 0.\n",
      " 1. 1. 1. 1. 0. 1. 1. 0. 0. 1. 0. 1. 1. 1. 1. 1. 1. 0. 1. 1. 1. 1. 1. 1.\n",
      " 1. 0. 0. 0. 0. 1. 0. 0. 1. 0. 1. 0. 1. 0. 0. 1. 0. 0. 1. 1. 1. 1. 1. 0.\n",
      " 1. 1. 0. 1. 0. 1. 1. 0. 0. 1. 0. 1. 1. 1. 0. 1. 1. 0. 0. 0. 0. 1. 1. 0.\n",
      " 0. 1. 1. 1. 0. 1. 1. 0. 1. 0. 0. 0. 1. 0. 0. 1. 0. 1. 0. 1. 0. 0. 1. 0.\n",
      " 1. 0. 0. 1. 1. 0. 0. 1. 0. 1. 1. 0. 1. 1. 1. 1. 0. 0. 1. 1. 1. 0. 1. 0.\n",
      " 0. 0. 0. 0. 1. 0. 1. 1. 0. 1. 1. 0. 1. 1. 0. 1. 1. 0. 0. 1. 0.] [[7.0000e+00 1.0420e+04 6.3200e+02 ... 1.7500e+02 1.0700e+02 8.0000e+00]\n",
      " [8.0000e+00 1.0510e+04 5.1000e+02 ... 1.7100e+02 1.0900e+02 8.0000e+00]\n",
      " [6.0000e+00 1.0550e+04 6.2000e+02 ... 1.7000e+02 1.0600e+02 8.0000e+00]\n",
      " ...\n",
      " [8.0000e+00 1.0515e+04 5.1500e+02 ... 1.7100e+02 1.0900e+02 8.0000e+00]\n",
      " [7.0000e+00 1.0410e+04 6.0000e+02 ... 1.7500e+02 1.0700e+02 8.0000e+00]\n",
      " [7.0000e+00 1.0030e+04 4.3000e+02 ... 1.7100e+02 1.1000e+02 8.0000e+00]] [1. 1. 1. 0. 0. 1. 1. 1. 0. 1. 1. 0. 0. 0. 0. 0. 0. 0. 0. 0. 1. 0. 1. 0.\n",
      " 0. 1. 0. 1. 1. 1. 1. 0. 1. 0. 1. 0. 1. 0. 0. 1. 1. 0. 0. 0. 1. 0. 1. 1.\n",
      " 0. 0. 1. 0. 1. 0. 1. 1. 1. 1. 0. 1. 1. 1. 1. 1. 1. 1. 0. 1. 0. 0. 0. 1.\n",
      " 1. 0. 1. 1. 1. 0. 0. 1. 1. 0. 0. 0. 1. 0. 0. 0. 1. 1. 0. 1. 0. 0. 1. 0.\n",
      " 0. 1. 1. 1. 1. 1. 1. 0. 1. 1. 1. 1. 1. 0. 0. 0. 0. 1. 1. 1. 1. 0. 0. 1.\n",
      " 1. 1. 1. 0. 0. 1. 0. 1. 1. 0. 1. 1. 1. 1. 0. 1. 0. 0. 0. 0. 1. 1. 1. 1.\n",
      " 0. 0. 1. 0. 1. 1. 0. 1. 1. 1. 0. 0. 0. 0. 1. 1. 1. 1. 1. 0. 1. 1. 1.]\n"
     ]
    }
   ],
   "source": [
    "split=round(n*2/3)\n",
    "x_train=x[:split]\n",
    "y_train=y[:split]\n",
    "x_test=x[split:]\n",
    "y_test=y[split:]\n",
    "print(x_train,y_train,x_test,y_test)"
   ]
  },
  {
   "cell_type": "code",
   "execution_count": 6,
   "metadata": {},
   "outputs": [],
   "source": [
    "model=Sequential()\n",
    "model.add(Dense(512, input_dim=10,activation='sigmoid'))\n",
    "model.add(Dense(512,activation='sigmoid'))\n",
    "model.add(Dense(512,activation='sigmoid'))\n",
    "model.add(Dense(1,activation='softmax'))"
   ]
  },
  {
   "cell_type": "code",
   "execution_count": 7,
   "metadata": {},
   "outputs": [],
   "source": [
    "model.compile(loss='categorical_crossentropy',optimizer='adam',metrics=['accuracy'])"
   ]
  },
  {
   "cell_type": "code",
   "execution_count": 8,
   "metadata": {},
   "outputs": [
    {
     "name": "stdout",
     "output_type": "stream",
     "text": [
      "Epoch 1/80\n",
      "167/167 [==============================] - 3s 16ms/step - loss: 0.0000e+00 - accuracy: 0.5495 - val_loss: 0.0000e+00 - val_accuracy: 0.5629\n",
      "Epoch 2/80\n",
      "167/167 [==============================] - 2s 14ms/step - loss: 0.0000e+00 - accuracy: 0.5495 - val_loss: 0.0000e+00 - val_accuracy: 0.5629\n",
      "Epoch 3/80\n",
      "167/167 [==============================] - 2s 14ms/step - loss: 0.0000e+00 - accuracy: 0.5495 - val_loss: 0.0000e+00 - val_accuracy: 0.5629\n",
      "Epoch 4/80\n",
      "167/167 [==============================] - 2s 14ms/step - loss: 0.0000e+00 - accuracy: 0.5495 - val_loss: 0.0000e+00 - val_accuracy: 0.5629ss: 0.0000e+00 - accura\n",
      "Epoch 5/80\n",
      "167/167 [==============================] - 2s 14ms/step - loss: 0.0000e+00 - accuracy: 0.5495 - val_loss: 0.0000e+00 - val_accuracy: 0.5629\n",
      "Epoch 6/80\n",
      "167/167 [==============================] - 2s 13ms/step - loss: 0.0000e+00 - accuracy: 0.5495 - val_loss: 0.0000e+00 - val_accuracy: 0.5629\n",
      "Epoch 7/80\n",
      "167/167 [==============================] - 2s 13ms/step - loss: 0.0000e+00 - accuracy: 0.5495 - val_loss: 0.0000e+00 - val_accuracy: 0.5629\n",
      "Epoch 8/80\n",
      "167/167 [==============================] - 2s 14ms/step - loss: 0.0000e+00 - accuracy: 0.5495 - val_loss: 0.0000e+00 - val_accuracy: 0.5629\n",
      "Epoch 9/80\n",
      "167/167 [==============================] - 2s 14ms/step - loss: 0.0000e+00 - accuracy: 0.5495 - val_loss: 0.0000e+00 - val_accuracy: 0.5629\n",
      "Epoch 10/80\n",
      "167/167 [==============================] - 2s 13ms/step - loss: 0.0000e+00 - accuracy: 0.5495 - val_loss: 0.0000e+00 - val_accuracy: 0.5629\n",
      "Epoch 11/80\n",
      "167/167 [==============================] - 3s 15ms/step - loss: 0.0000e+00 - accuracy: 0.5495 - val_loss: 0.0000e+00 - val_accuracy: 0.5629\n",
      "Epoch 12/80\n",
      "167/167 [==============================] - 3s 20ms/step - loss: 0.0000e+00 - accuracy: 0.5495 - val_loss: 0.0000e+00 - val_accuracy: 0.5629\n",
      "Epoch 13/80\n",
      "167/167 [==============================] - 4s 21ms/step - loss: 0.0000e+00 - accuracy: 0.5495 - val_loss: 0.0000e+00 - val_accuracy: 0.5629\n",
      "Epoch 14/80\n",
      "167/167 [==============================] - 2s 14ms/step - loss: 0.0000e+00 - accuracy: 0.5495 - val_loss: 0.0000e+00 - val_accuracy: 0.5629\n",
      "Epoch 15/80\n",
      "167/167 [==============================] - 2s 14ms/step - loss: 0.0000e+00 - accuracy: 0.5495 - val_loss: 0.0000e+00 - val_accuracy: 0.5629\n",
      "Epoch 16/80\n",
      "167/167 [==============================] - 2s 14ms/step - loss: 0.0000e+00 - accuracy: 0.5495 - val_loss: 0.0000e+00 - val_accuracy: 0.5629\n",
      "Epoch 17/80\n",
      "167/167 [==============================] - 2s 13ms/step - loss: 0.0000e+00 - accuracy: 0.5495 - val_loss: 0.0000e+00 - val_accuracy: 0.5629\n",
      "Epoch 18/80\n",
      "167/167 [==============================] - 2s 13ms/step - loss: 0.0000e+00 - accuracy: 0.5495 - val_loss: 0.0000e+00 - val_accuracy: 0.5629\n",
      "Epoch 19/80\n",
      "167/167 [==============================] - 2s 13ms/step - loss: 0.0000e+00 - accuracy: 0.5495 - val_loss: 0.0000e+00 - val_accuracy: 0.5629\n",
      "Epoch 20/80\n",
      "167/167 [==============================] - 2s 13ms/step - loss: 0.0000e+00 - accuracy: 0.5495 - val_loss: 0.0000e+00 - val_accuracy: 0.5629\n",
      "Epoch 21/80\n",
      "167/167 [==============================] - 2s 13ms/step - loss: 0.0000e+00 - accuracy: 0.5495 - val_loss: 0.0000e+00 - val_accuracy: 0.5629\n",
      "Epoch 22/80\n",
      "167/167 [==============================] - 2s 13ms/step - loss: 0.0000e+00 - accuracy: 0.5495 - val_loss: 0.0000e+00 - val_accuracy: 0.5629\n",
      "Epoch 23/80\n",
      "167/167 [==============================] - 2s 13ms/step - loss: 0.0000e+00 - accuracy: 0.5495 - val_loss: 0.0000e+00 - val_accuracy: 0.5629\n",
      "Epoch 24/80\n",
      "167/167 [==============================] - 2s 13ms/step - loss: 0.0000e+00 - accuracy: 0.5495 - val_loss: 0.0000e+00 - val_accuracy: 0.5629\n",
      "Epoch 25/80\n",
      "167/167 [==============================] - 2s 13ms/step - loss: 0.0000e+00 - accuracy: 0.5495 - val_loss: 0.0000e+00 - val_accuracy: 0.5629\n",
      "Epoch 26/80\n",
      "167/167 [==============================] - 2s 13ms/step - loss: 0.0000e+00 - accuracy: 0.5495 - val_loss: 0.0000e+00 - val_accuracy: 0.5629\n",
      "Epoch 27/80\n",
      "167/167 [==============================] - 2s 13ms/step - loss: 0.0000e+00 - accuracy: 0.5495 - val_loss: 0.0000e+00 - val_accuracy: 0.5629\n",
      "Epoch 28/80\n",
      "167/167 [==============================] - 2s 13ms/step - loss: 0.0000e+00 - accuracy: 0.5495 - val_loss: 0.0000e+00 - val_accuracy: 0.5629\n",
      "Epoch 29/80\n",
      "167/167 [==============================] - 2s 13ms/step - loss: 0.0000e+00 - accuracy: 0.5495 - val_loss: 0.0000e+00 - val_accuracy: 0.5629\n",
      "Epoch 30/80\n",
      "167/167 [==============================] - 2s 13ms/step - loss: 0.0000e+00 - accuracy: 0.5495 - val_loss: 0.0000e+00 - val_accuracy: 0.5629\n",
      "Epoch 31/80\n",
      "167/167 [==============================] - 2s 13ms/step - loss: 0.0000e+00 - accuracy: 0.5495 - val_loss: 0.0000e+00 - val_accuracy: 0.5629\n",
      "Epoch 32/80\n",
      "167/167 [==============================] - 2s 13ms/step - loss: 0.0000e+00 - accuracy: 0.5495 - val_loss: 0.0000e+00 - val_accuracy: 0.5629\n",
      "Epoch 33/80\n",
      "167/167 [==============================] - 2s 13ms/step - loss: 0.0000e+00 - accuracy: 0.5495 - val_loss: 0.0000e+00 - val_accuracy: 0.5629\n",
      "Epoch 34/80\n",
      "167/167 [==============================] - 2s 13ms/step - loss: 0.0000e+00 - accuracy: 0.5495 - val_loss: 0.0000e+00 - val_accuracy: 0.5629\n",
      "Epoch 35/80\n",
      "167/167 [==============================] - 2s 13ms/step - loss: 0.0000e+00 - accuracy: 0.5495 - val_loss: 0.0000e+00 - val_accuracy: 0.5629\n",
      "Epoch 36/80\n",
      "167/167 [==============================] - 2s 14ms/step - loss: 0.0000e+00 - accuracy: 0.5495 - val_loss: 0.0000e+00 - val_accuracy: 0.5629\n",
      "Epoch 37/80\n",
      "167/167 [==============================] - 2s 13ms/step - loss: 0.0000e+00 - accuracy: 0.5495 - val_loss: 0.0000e+00 - val_accuracy: 0.5629\n",
      "Epoch 38/80\n",
      "167/167 [==============================] - 2s 13ms/step - loss: 0.0000e+00 - accuracy: 0.5495 - val_loss: 0.0000e+00 - val_accuracy: 0.5629\n",
      "Epoch 39/80\n",
      "167/167 [==============================] - 2s 13ms/step - loss: 0.0000e+00 - accuracy: 0.5495 - val_loss: 0.0000e+00 - val_accuracy: 0.5629\n",
      "Epoch 40/80\n",
      "167/167 [==============================] - 2s 13ms/step - loss: 0.0000e+00 - accuracy: 0.5495 - val_loss: 0.0000e+00 - val_accuracy: 0.5629\n",
      "Epoch 41/80\n",
      "167/167 [==============================] - 2s 13ms/step - loss: 0.0000e+00 - accuracy: 0.5495 - val_loss: 0.0000e+00 - val_accuracy: 0.5629\n",
      "Epoch 42/80\n",
      "167/167 [==============================] - 2s 13ms/step - loss: 0.0000e+00 - accuracy: 0.5495 - val_loss: 0.0000e+00 - val_accuracy: 0.5629\n",
      "Epoch 43/80\n",
      "167/167 [==============================] - 2s 13ms/step - loss: 0.0000e+00 - accuracy: 0.5495 - val_loss: 0.0000e+00 - val_accuracy: 0.5629\n",
      "Epoch 44/80\n",
      "167/167 [==============================] - 2s 13ms/step - loss: 0.0000e+00 - accuracy: 0.5495 - val_loss: 0.0000e+00 - val_accuracy: 0.5629\n",
      "Epoch 45/80\n",
      "167/167 [==============================] - 2s 13ms/step - loss: 0.0000e+00 - accuracy: 0.5495 - val_loss: 0.0000e+00 - val_accuracy: 0.5629\n",
      "Epoch 46/80\n",
      "167/167 [==============================] - 2s 13ms/step - loss: 0.0000e+00 - accuracy: 0.5495 - val_loss: 0.0000e+00 - val_accuracy: 0.5629\n",
      "Epoch 47/80\n",
      "167/167 [==============================] - 2s 13ms/step - loss: 0.0000e+00 - accuracy: 0.5495 - val_loss: 0.0000e+00 - val_accuracy: 0.5629\n",
      "Epoch 48/80\n",
      "167/167 [==============================] - 2s 13ms/step - loss: 0.0000e+00 - accuracy: 0.5495 - val_loss: 0.0000e+00 - val_accuracy: 0.5629\n",
      "Epoch 49/80\n",
      "167/167 [==============================] - 2s 13ms/step - loss: 0.0000e+00 - accuracy: 0.5495 - val_loss: 0.0000e+00 - val_accuracy: 0.5629\n",
      "Epoch 50/80\n",
      "167/167 [==============================] - 2s 13ms/step - loss: 0.0000e+00 - accuracy: 0.5495 - val_loss: 0.0000e+00 - val_accuracy: 0.5629\n",
      "Epoch 51/80\n",
      "167/167 [==============================] - 2s 13ms/step - loss: 0.0000e+00 - accuracy: 0.5495 - val_loss: 0.0000e+00 - val_accuracy: 0.5629\n",
      "Epoch 52/80\n",
      "167/167 [==============================] - 2s 13ms/step - loss: 0.0000e+00 - accuracy: 0.5495 - val_loss: 0.0000e+00 - val_accuracy: 0.5629\n",
      "Epoch 53/80\n",
      "167/167 [==============================] - 2s 13ms/step - loss: 0.0000e+00 - accuracy: 0.5495 - val_loss: 0.0000e+00 - val_accuracy: 0.5629\n",
      "Epoch 54/80\n",
      "167/167 [==============================] - 2s 13ms/step - loss: 0.0000e+00 - accuracy: 0.5495 - val_loss: 0.0000e+00 - val_accuracy: 0.5629\n",
      "Epoch 55/80\n",
      "167/167 [==============================] - 2s 13ms/step - loss: 0.0000e+00 - accuracy: 0.5495 - val_loss: 0.0000e+00 - val_accuracy: 0.5629\n",
      "Epoch 56/80\n",
      "167/167 [==============================] - 2s 13ms/step - loss: 0.0000e+00 - accuracy: 0.5495 - val_loss: 0.0000e+00 - val_accuracy: 0.5629\n",
      "Epoch 57/80\n",
      "167/167 [==============================] - 2s 13ms/step - loss: 0.0000e+00 - accuracy: 0.5495 - val_loss: 0.0000e+00 - val_accuracy: 0.5629\n",
      "Epoch 58/80\n",
      "167/167 [==============================] - 2s 13ms/step - loss: 0.0000e+00 - accuracy: 0.5495 - val_loss: 0.0000e+00 - val_accuracy: 0.5629\n",
      "Epoch 59/80\n",
      "167/167 [==============================] - 2s 13ms/step - loss: 0.0000e+00 - accuracy: 0.5495 - val_loss: 0.0000e+00 - val_accuracy: 0.5629\n",
      "Epoch 60/80\n",
      "167/167 [==============================] - 2s 13ms/step - loss: 0.0000e+00 - accuracy: 0.5495 - val_loss: 0.0000e+00 - val_accuracy: 0.5629\n",
      "Epoch 61/80\n",
      "167/167 [==============================] - 2s 14ms/step - loss: 0.0000e+00 - accuracy: 0.5495 - val_loss: 0.0000e+00 - val_accuracy: 0.5629\n",
      "Epoch 62/80\n",
      "167/167 [==============================] - 3s 16ms/step - loss: 0.0000e+00 - accuracy: 0.5495 - val_loss: 0.0000e+00 - val_accuracy: 0.5629\n",
      "Epoch 63/80\n",
      "167/167 [==============================] - 3s 17ms/step - loss: 0.0000e+00 - accuracy: 0.5495 - val_loss: 0.0000e+00 - val_accuracy: 0.5629\n",
      "Epoch 64/80\n",
      "167/167 [==============================] - 3s 16ms/step - loss: 0.0000e+00 - accuracy: 0.5495 - val_loss: 0.0000e+00 - val_accuracy: 0.5629\n",
      "Epoch 65/80\n",
      "167/167 [==============================] - 3s 18ms/step - loss: 0.0000e+00 - accuracy: 0.5495 - val_loss: 0.0000e+00 - val_accuracy: 0.5629\n",
      "Epoch 66/80\n",
      "167/167 [==============================] - 3s 17ms/step - loss: 0.0000e+00 - accuracy: 0.5495 - val_loss: 0.0000e+00 - val_accuracy: 0.5629\n",
      "Epoch 67/80\n",
      "167/167 [==============================] - 3s 16ms/step - loss: 0.0000e+00 - accuracy: 0.5495 - val_loss: 0.0000e+00 - val_accuracy: 0.5629\n",
      "Epoch 68/80\n",
      "167/167 [==============================] - 3s 18ms/step - loss: 0.0000e+00 - accuracy: 0.5495 - val_loss: 0.0000e+00 - val_accuracy: 0.5629\n",
      "Epoch 69/80\n",
      "167/167 [==============================] - 3s 18ms/step - loss: 0.0000e+00 - accuracy: 0.5495 - val_loss: 0.0000e+00 - val_accuracy: 0.5629\n",
      "Epoch 70/80\n",
      "167/167 [==============================] - 3s 18ms/step - loss: 0.0000e+00 - accuracy: 0.5495 - val_loss: 0.0000e+00 - val_accuracy: 0.5629\n",
      "Epoch 71/80\n",
      "167/167 [==============================] - 3s 17ms/step - loss: 0.0000e+00 - accuracy: 0.5495 - val_loss: 0.0000e+00 - val_accuracy: 0.5629\n",
      "Epoch 72/80\n",
      "167/167 [==============================] - 3s 16ms/step - loss: 0.0000e+00 - accuracy: 0.5495 - val_loss: 0.0000e+00 - val_accuracy: 0.5629\n",
      "Epoch 73/80\n",
      "167/167 [==============================] - 3s 17ms/step - loss: 0.0000e+00 - accuracy: 0.5495 - val_loss: 0.0000e+00 - val_accuracy: 0.5629\n",
      "Epoch 74/80\n",
      "167/167 [==============================] - 3s 19ms/step - loss: 0.0000e+00 - accuracy: 0.5495 - val_loss: 0.0000e+00 - val_accuracy: 0.5629\n",
      "Epoch 75/80\n",
      "167/167 [==============================] - 3s 18ms/step - loss: 0.0000e+00 - accuracy: 0.5495 - val_loss: 0.0000e+00 - val_accuracy: 0.5629\n",
      "Epoch 76/80\n",
      "167/167 [==============================] - 3s 18ms/step - loss: 0.0000e+00 - accuracy: 0.5495 - val_loss: 0.0000e+00 - val_accuracy: 0.5629\n",
      "Epoch 77/80\n",
      "167/167 [==============================] - 3s 18ms/step - loss: 0.0000e+00 - accuracy: 0.5495 - val_loss: 0.0000e+00 - val_accuracy: 0.5629\n",
      "Epoch 78/80\n",
      "167/167 [==============================] - 3s 18ms/step - loss: 0.0000e+00 - accuracy: 0.5495 - val_loss: 0.0000e+00 - val_accuracy: 0.5629\n",
      "Epoch 79/80\n",
      "167/167 [==============================] - 3s 19ms/step - loss: 0.0000e+00 - accuracy: 0.5495 - val_loss: 0.0000e+00 - val_accuracy: 0.5629\n",
      "Epoch 80/80\n",
      "167/167 [==============================] - 3s 19ms/step - loss: 0.0000e+00 - accuracy: 0.5495 - val_loss: 0.0000e+00 - val_accuracy: 0.5629\n"
     ]
    }
   ],
   "source": [
    "history=model.fit(x_train,y_train,batch_size=2,epochs=80,validation_data=(x_test,y_test),verbose=1)"
   ]
  },
  {
   "cell_type": "code",
   "execution_count": 9,
   "metadata": {},
   "outputs": [
    {
     "name": "stdout",
     "output_type": "stream",
     "text": [
      "16/16 [==============================] - 0s 8ms/step - loss: 0.0000e+00 - accuracy: 0.5540\n"
     ]
    }
   ],
   "source": [
    "accuracy=model.evaluate(x,y)"
   ]
  },
  {
   "cell_type": "code",
   "execution_count": 10,
   "metadata": {},
   "outputs": [
    {
     "name": "stdout",
     "output_type": "stream",
     "text": [
      "WARNING:tensorflow:From <ipython-input-10-af42de75ce46>:1: Sequential.predict_classes (from tensorflow.python.keras.engine.sequential) is deprecated and will be removed after 2021-01-01.\n",
      "Instructions for updating:\n",
      "Please use instead:* `np.argmax(model.predict(x), axis=-1)`,   if your model does multi-class classification   (e.g. if it uses a `softmax` last-layer activation).* `(model.predict(x) > 0.5).astype(\"int32\")`,   if your model does binary classification   (e.g. if it uses a `sigmoid` last-layer activation).\n"
     ]
    }
   ],
   "source": [
    "prediction=model.predict_classes(x)"
   ]
  },
  {
   "cell_type": "code",
   "execution_count": 11,
   "metadata": {},
   "outputs": [
    {
     "name": "stdout",
     "output_type": "stream",
     "text": [
      "[6.000e+00 1.049e+04 6.500e+02 9.200e+01 9.200e+01 2.600e+01 9.400e+01\n",
      " 1.690e+02 1.060e+02 8.000e+00] [1] 1.0\n"
     ]
    }
   ],
   "source": [
    "print(x[4],prediction[4],y[4])"
   ]
  },
  {
   "cell_type": "code",
   "execution_count": null,
   "metadata": {},
   "outputs": [],
   "source": []
  }
 ],
 "metadata": {
  "kernelspec": {
   "display_name": "Python 3",
   "language": "python",
   "name": "python3"
  },
  "language_info": {
   "codemirror_mode": {
    "name": "ipython",
    "version": 3
   },
   "file_extension": ".py",
   "mimetype": "text/x-python",
   "name": "python",
   "nbconvert_exporter": "python",
   "pygments_lexer": "ipython3",
   "version": "3.8.3"
  }
 },
 "nbformat": 4,
 "nbformat_minor": 4
}
